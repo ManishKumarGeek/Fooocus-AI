{
 "cells": [
  {
   "cell_type": "code",
   "execution_count": null,
   "metadata": {},
   "outputs": [],
   "source": [
    "!print(\"NoteBook by Manish Kumar \\n Website: https://manishdev.com \\n Github: https://github.com/ManishKumarGeek \")\n",
    "\n",
    "!pip install pygit2==1.12.2\n",
    "%cd /content\n",
    "!git clone https://github.com/lllyasviel/Fooocus.git\n",
    "%cd /content/Fooocus\n",
    "!python entry_with_update.py --share --always-high-vram"
   ]
  },
  {
   "cell_type": "code",
   "execution_count": null,
   "metadata": {},
   "outputs": [],
   "source": [
    "#Run this Cell after Disconneted \n",
    "\n",
    "!python entry_with_update.py --share --always-high-vram"
   ]
  }
 ],
 "metadata": {
  "language_info": {
   "name": "python"
  }
 },
 "nbformat": 4,
 "nbformat_minor": 2
}
